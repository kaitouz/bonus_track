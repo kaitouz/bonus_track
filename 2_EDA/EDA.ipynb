{
 "cells": [
  {
   "cell_type": "code",
   "execution_count": 12,
   "metadata": {},
   "outputs": [],
   "source": [
    "import pandas as pd\n",
    "import seaborn as sns\n",
    "import matplotlib.pyplot as plt"
   ]
  },
  {
   "cell_type": "code",
   "execution_count": 2,
   "metadata": {},
   "outputs": [],
   "source": [
    "df = pd.read_csv('data.csv')"
   ]
  },
  {
   "cell_type": "code",
   "execution_count": 4,
   "metadata": {},
   "outputs": [
    {
     "data": {
      "text/html": [
       "<div>\n",
       "<style scoped>\n",
       "    .dataframe tbody tr th:only-of-type {\n",
       "        vertical-align: middle;\n",
       "    }\n",
       "\n",
       "    .dataframe tbody tr th {\n",
       "        vertical-align: top;\n",
       "    }\n",
       "\n",
       "    .dataframe thead th {\n",
       "        text-align: right;\n",
       "    }\n",
       "</style>\n",
       "<table border=\"1\" class=\"dataframe\">\n",
       "  <thead>\n",
       "    <tr style=\"text-align: right;\">\n",
       "      <th></th>\n",
       "      <th>ID</th>\n",
       "      <th>Name</th>\n",
       "      <th>CPU</th>\n",
       "      <th>RAM</th>\n",
       "      <th>GPU</th>\n",
       "      <th>Display</th>\n",
       "      <th>Storage</th>\n",
       "      <th>Link</th>\n",
       "      <th>Image</th>\n",
       "      <th>Price</th>\n",
       "    </tr>\n",
       "  </thead>\n",
       "  <tbody>\n",
       "    <tr>\n",
       "      <th>0</th>\n",
       "      <td>lenovo-yoga-7i-16-254</td>\n",
       "      <td>Lenovo Yoga 7i 16</td>\n",
       "      <td>Intel Core i5-1335U</td>\n",
       "      <td>8GB RAM</td>\n",
       "      <td>Intel Iris Xe Graphics G7 (80EU)</td>\n",
       "      <td>16.0″, WUXGA (1920 x 1200), IPS</td>\n",
       "      <td>512GB SSD</td>\n",
       "      <td>https://laptopmedia.com/laptop-specs/lenovo-yo...</td>\n",
       "      <td>https://laptopmedia.com/wp-content/uploads/202...</td>\n",
       "      <td>62500</td>\n",
       "    </tr>\n",
       "    <tr>\n",
       "      <th>1</th>\n",
       "      <td>lenovo-yoga-7i-16-249</td>\n",
       "      <td>Lenovo Yoga 7i 16</td>\n",
       "      <td>Intel Core i5-1335U</td>\n",
       "      <td>8GB RAM</td>\n",
       "      <td>Intel Iris Xe Graphics G7 (80EU)</td>\n",
       "      <td>16.0″, WUXGA (1920 x 1200), IPS</td>\n",
       "      <td>512GB SSD</td>\n",
       "      <td>https://laptopmedia.com/laptop-specs/lenovo-yo...</td>\n",
       "      <td>https://laptopmedia.com/wp-content/uploads/202...</td>\n",
       "      <td>68499</td>\n",
       "    </tr>\n",
       "    <tr>\n",
       "      <th>2</th>\n",
       "      <td>lenovo-yoga-7i-16-178</td>\n",
       "      <td>Lenovo Yoga 7i 16</td>\n",
       "      <td>Intel Core i5-1240P</td>\n",
       "      <td>8GB RAM</td>\n",
       "      <td>Intel Iris Xe Graphics G7 (80EU)</td>\n",
       "      <td>16.0\", WQXGA (2560 x 1600), IPS</td>\n",
       "      <td>512GB SSD</td>\n",
       "      <td>https://laptopmedia.com/laptop-specs/lenovo-yo...</td>\n",
       "      <td>https://laptopmedia.com/wp-content/uploads/202...</td>\n",
       "      <td>77999</td>\n",
       "    </tr>\n",
       "    <tr>\n",
       "      <th>3</th>\n",
       "      <td>lenovo-thinkpad-t16-gen-1-245</td>\n",
       "      <td>Lenovo ThinkPad T16 Gen 1</td>\n",
       "      <td>Intel Core i7-1270P</td>\n",
       "      <td>24GB RAM</td>\n",
       "      <td>Intel Iris Xe Graphics G7 (96EU)</td>\n",
       "      <td>16.0”, WUXGA (1920 x 1200), IPS</td>\n",
       "      <td>2000GB SSD</td>\n",
       "      <td>https://laptopmedia.com/laptop-specs/lenovo-th...</td>\n",
       "      <td>https://laptopmedia.com/wp-content/uploads/202...</td>\n",
       "      <td>128999</td>\n",
       "    </tr>\n",
       "    <tr>\n",
       "      <th>4</th>\n",
       "      <td>lenovo-ideapad-flex-5i-14-102</td>\n",
       "      <td>Lenovo IdeaPad Flex 5i 14</td>\n",
       "      <td>Intel Core i7-1255U</td>\n",
       "      <td>16GB RAM</td>\n",
       "      <td>Intel Iris Xe Graphics G7 (96EU)</td>\n",
       "      <td>14.0″, 2.8K (2880 x 1800), OLED</td>\n",
       "      <td>2000GB SSD</td>\n",
       "      <td>https://laptopmedia.com/laptop-specs/lenovo-id...</td>\n",
       "      <td>https://laptopmedia.com/wp-content/uploads/202...</td>\n",
       "      <td>117900</td>\n",
       "    </tr>\n",
       "    <tr>\n",
       "      <th>5</th>\n",
       "      <td>lenovo-legion-5i-15-1498</td>\n",
       "      <td>Lenovo Legion 5i 15</td>\n",
       "      <td>Intel Core i7-12700H</td>\n",
       "      <td>32GB RAM</td>\n",
       "      <td>NVIDIA GeForce RTX 3060 (Laptop, 130W)</td>\n",
       "      <td>15.6\", Full HD (1920 x 1080), 165 Hz, IPS</td>\n",
       "      <td>2000GB SSD</td>\n",
       "      <td>https://laptopmedia.com/laptop-specs/lenovo-le...</td>\n",
       "      <td>https://laptopmedia.com/wp-content/uploads/202...</td>\n",
       "      <td>208900</td>\n",
       "    </tr>\n",
       "    <tr>\n",
       "      <th>6</th>\n",
       "      <td>lenovo-thinkpad-t14s-gen-2-297</td>\n",
       "      <td>Lenovo ThinkPad T14s Gen 2</td>\n",
       "      <td>Intel Core i7-1185G7</td>\n",
       "      <td>16GB RAM</td>\n",
       "      <td>Intel Iris Xe Graphics G7 (96EU)</td>\n",
       "      <td>14.0”, Full HD (1920 x 1080), IPS</td>\n",
       "      <td>1000GB SSD</td>\n",
       "      <td>https://laptopmedia.com/laptop-specs/lenovo-th...</td>\n",
       "      <td>https://laptopmedia.com/wp-content/uploads/202...</td>\n",
       "      <td>140900</td>\n",
       "    </tr>\n",
       "    <tr>\n",
       "      <th>7</th>\n",
       "      <td>lenovo-thinkpad-t14s-gen-2-280</td>\n",
       "      <td>Lenovo ThinkPad T14s Gen 2</td>\n",
       "      <td>Intel Core i5-1135G7</td>\n",
       "      <td>16GB RAM</td>\n",
       "      <td>Intel Iris Xe Graphics G7 (80EU)</td>\n",
       "      <td>14.0”, Full HD (1920 x 1080), IPS</td>\n",
       "      <td>2000GB SSD</td>\n",
       "      <td>https://laptopmedia.com/laptop-specs/lenovo-th...</td>\n",
       "      <td>https://laptopmedia.com/wp-content/uploads/202...</td>\n",
       "      <td>112900</td>\n",
       "    </tr>\n",
       "    <tr>\n",
       "      <th>8</th>\n",
       "      <td>lenovo-ideapad-3-14-1410</td>\n",
       "      <td>Lenovo IdeaPad 3 14</td>\n",
       "      <td>Intel Core i7-1165G7</td>\n",
       "      <td>20GB RAM</td>\n",
       "      <td>Intel Iris Xe Graphics G7 (96EU)</td>\n",
       "      <td>14.0”, Full HD (1920 x 1080), TN</td>\n",
       "      <td>1000GB SSD</td>\n",
       "      <td>https://laptopmedia.com/laptop-specs/lenovo-id...</td>\n",
       "      <td>https://laptopmedia.com/wp-content/uploads/202...</td>\n",
       "      <td>79900</td>\n",
       "    </tr>\n",
       "    <tr>\n",
       "      <th>9</th>\n",
       "      <td>lenovo-thinkpad-t16-gen-1-260</td>\n",
       "      <td>Lenovo ThinkPad T16 Gen 1</td>\n",
       "      <td>Intel Core i7-1270P</td>\n",
       "      <td>16GB RAM</td>\n",
       "      <td>Intel Iris Xe Graphics G7 (96EU)</td>\n",
       "      <td>16.0”, WUXGA (1920 x 1200), IPS</td>\n",
       "      <td>2000GB SSD</td>\n",
       "      <td>https://laptopmedia.com/laptop-specs/lenovo-th...</td>\n",
       "      <td>https://laptopmedia.com/wp-content/uploads/202...</td>\n",
       "      <td>142999</td>\n",
       "    </tr>\n",
       "  </tbody>\n",
       "</table>\n",
       "</div>"
      ],
      "text/plain": [
       "                               ID                        Name  \\\n",
       "0           lenovo-yoga-7i-16-254           Lenovo Yoga 7i 16   \n",
       "1           lenovo-yoga-7i-16-249           Lenovo Yoga 7i 16   \n",
       "2           lenovo-yoga-7i-16-178           Lenovo Yoga 7i 16   \n",
       "3   lenovo-thinkpad-t16-gen-1-245   Lenovo ThinkPad T16 Gen 1   \n",
       "4   lenovo-ideapad-flex-5i-14-102   Lenovo IdeaPad Flex 5i 14   \n",
       "5        lenovo-legion-5i-15-1498         Lenovo Legion 5i 15   \n",
       "6  lenovo-thinkpad-t14s-gen-2-297  Lenovo ThinkPad T14s Gen 2   \n",
       "7  lenovo-thinkpad-t14s-gen-2-280  Lenovo ThinkPad T14s Gen 2   \n",
       "8        lenovo-ideapad-3-14-1410         Lenovo IdeaPad 3 14   \n",
       "9   lenovo-thinkpad-t16-gen-1-260   Lenovo ThinkPad T16 Gen 1   \n",
       "\n",
       "                    CPU       RAM                                     GPU  \\\n",
       "0   Intel Core i5-1335U   8GB RAM        Intel Iris Xe Graphics G7 (80EU)   \n",
       "1   Intel Core i5-1335U   8GB RAM        Intel Iris Xe Graphics G7 (80EU)   \n",
       "2   Intel Core i5-1240P   8GB RAM        Intel Iris Xe Graphics G7 (80EU)   \n",
       "3   Intel Core i7-1270P  24GB RAM        Intel Iris Xe Graphics G7 (96EU)   \n",
       "4   Intel Core i7-1255U  16GB RAM        Intel Iris Xe Graphics G7 (96EU)   \n",
       "5  Intel Core i7-12700H  32GB RAM  NVIDIA GeForce RTX 3060 (Laptop, 130W)   \n",
       "6  Intel Core i7-1185G7  16GB RAM        Intel Iris Xe Graphics G7 (96EU)   \n",
       "7  Intel Core i5-1135G7  16GB RAM        Intel Iris Xe Graphics G7 (80EU)   \n",
       "8  Intel Core i7-1165G7  20GB RAM        Intel Iris Xe Graphics G7 (96EU)   \n",
       "9   Intel Core i7-1270P  16GB RAM        Intel Iris Xe Graphics G7 (96EU)   \n",
       "\n",
       "                                     Display     Storage  \\\n",
       "0            16.0″, WUXGA (1920 x 1200), IPS   512GB SSD   \n",
       "1            16.0″, WUXGA (1920 x 1200), IPS   512GB SSD   \n",
       "2            16.0\", WQXGA (2560 x 1600), IPS   512GB SSD   \n",
       "3            16.0”, WUXGA (1920 x 1200), IPS  2000GB SSD   \n",
       "4            14.0″, 2.8K (2880 x 1800), OLED  2000GB SSD   \n",
       "5  15.6\", Full HD (1920 x 1080), 165 Hz, IPS  2000GB SSD   \n",
       "6          14.0”, Full HD (1920 x 1080), IPS  1000GB SSD   \n",
       "7          14.0”, Full HD (1920 x 1080), IPS  2000GB SSD   \n",
       "8           14.0”, Full HD (1920 x 1080), TN  1000GB SSD   \n",
       "9            16.0”, WUXGA (1920 x 1200), IPS  2000GB SSD   \n",
       "\n",
       "                                                Link  \\\n",
       "0  https://laptopmedia.com/laptop-specs/lenovo-yo...   \n",
       "1  https://laptopmedia.com/laptop-specs/lenovo-yo...   \n",
       "2  https://laptopmedia.com/laptop-specs/lenovo-yo...   \n",
       "3  https://laptopmedia.com/laptop-specs/lenovo-th...   \n",
       "4  https://laptopmedia.com/laptop-specs/lenovo-id...   \n",
       "5  https://laptopmedia.com/laptop-specs/lenovo-le...   \n",
       "6  https://laptopmedia.com/laptop-specs/lenovo-th...   \n",
       "7  https://laptopmedia.com/laptop-specs/lenovo-th...   \n",
       "8  https://laptopmedia.com/laptop-specs/lenovo-id...   \n",
       "9  https://laptopmedia.com/laptop-specs/lenovo-th...   \n",
       "\n",
       "                                               Image   Price  \n",
       "0  https://laptopmedia.com/wp-content/uploads/202...   62500  \n",
       "1  https://laptopmedia.com/wp-content/uploads/202...   68499  \n",
       "2  https://laptopmedia.com/wp-content/uploads/202...   77999  \n",
       "3  https://laptopmedia.com/wp-content/uploads/202...  128999  \n",
       "4  https://laptopmedia.com/wp-content/uploads/202...  117900  \n",
       "5  https://laptopmedia.com/wp-content/uploads/202...  208900  \n",
       "6  https://laptopmedia.com/wp-content/uploads/202...  140900  \n",
       "7  https://laptopmedia.com/wp-content/uploads/202...  112900  \n",
       "8  https://laptopmedia.com/wp-content/uploads/202...   79900  \n",
       "9  https://laptopmedia.com/wp-content/uploads/202...  142999  "
      ]
     },
     "execution_count": 4,
     "metadata": {},
     "output_type": "execute_result"
    }
   ],
   "source": [
    "df.head(10)"
   ]
  },
  {
   "cell_type": "code",
   "execution_count": 3,
   "metadata": {},
   "outputs": [
    {
     "data": {
      "text/plain": [
       "ID         58764\n",
       "Name        1787\n",
       "CPU          359\n",
       "RAM           18\n",
       "GPU          359\n",
       "Display      202\n",
       "Storage       40\n",
       "Link       58764\n",
       "Image       8452\n",
       "Price       6978\n",
       "dtype: int64"
      ]
     },
     "execution_count": 3,
     "metadata": {},
     "output_type": "execute_result"
    }
   ],
   "source": [
    "df.nunique()"
   ]
  },
  {
   "cell_type": "code",
   "execution_count": 5,
   "metadata": {},
   "outputs": [
    {
     "data": {
      "text/plain": [
       "ID          0\n",
       "Name        0\n",
       "CPU         2\n",
       "RAM         0\n",
       "GPU         2\n",
       "Display    37\n",
       "Storage     4\n",
       "Link        0\n",
       "Image       2\n",
       "Price       0\n",
       "dtype: int64"
      ]
     },
     "execution_count": 5,
     "metadata": {},
     "output_type": "execute_result"
    }
   ],
   "source": [
    "df.isnull().sum()"
   ]
  },
  {
   "cell_type": "code",
   "execution_count": 7,
   "metadata": {},
   "outputs": [
    {
     "data": {
      "text/plain": [
       "CPU\n",
       "Intel Core i7-12700H    5075\n",
       "Intel Core i5-1135G7    3853\n",
       "Intel Core i7-11800H    2844\n",
       "Intel Core i7-12650H    2833\n",
       "Intel Core i3-1115G4    2081\n",
       "                        ... \n",
       "Intel Core i3-N300         1\n",
       "Intel Core i5-L16G7        1\n",
       "Intel Pentium 8505         1\n",
       "Intel Atom Z3775           1\n",
       "Intel Core i7-6920HQ       1\n",
       "Name: count, Length: 359, dtype: int64"
      ]
     },
     "execution_count": 7,
     "metadata": {},
     "output_type": "execute_result"
    }
   ],
   "source": [
    "df['CPU'].value_counts()"
   ]
  },
  {
   "cell_type": "code",
   "execution_count": 6,
   "metadata": {},
   "outputs": [
    {
     "data": {
      "text/plain": [
       "GPU\n",
       "Intel Iris Xe Graphics G7 (96EU)          7508\n",
       "Intel Iris Xe Graphics G7 (80EU)          6261\n",
       "AMD Radeon RX Vega 7 (R4000/5000, 15W)    2276\n",
       "Intel UHD Graphics Xe G4 (48EU)           2236\n",
       "AMD Radeon RX Vega 8 (R4000/5000, 15W)    2016\n",
       "                                          ... \n",
       "NVIDIA GeForce MX150 (4GB GDDR5)             1\n",
       "NVIDIA Quadro P600 (4GB GDDR5)               1\n",
       "AMD FirePro W4190M (2GB GDDR5)               1\n",
       "Qualcomm Adreno 680                          1\n",
       "NVIDIA GeForce RTX 3080 (Laptop, 155W)       1\n",
       "Name: count, Length: 359, dtype: int64"
      ]
     },
     "execution_count": 6,
     "metadata": {},
     "output_type": "execute_result"
    }
   ],
   "source": [
    "df['GPU'].value_counts()"
   ]
  },
  {
   "cell_type": "markdown",
   "metadata": {},
   "source": [
    "# Plotting Part"
   ]
  },
  {
   "cell_type": "code",
   "execution_count": 14,
   "metadata": {},
   "outputs": [
    {
     "data": {
      "image/png": "[encoded data removed]",
      "text/plain": [
       "<Figure size 640x480 with 1 Axes>"
      ]
     },
     "metadata": {},
     "output_type": "display_data"
    }
   ],
   "source": [
    "sns.barplot(x = 'Price', y = 'RAM', data = df, )\n",
    "\n",
    "plt.show()"
   ]
  }
 ],
 "metadata": {
  "kernelspec": {
   "display_name": "bonus_track",
   "language": "python",
   "name": "python3"
  },
  "language_info": {
   "codemirror_mode": {
    "name": "ipython",
    "version": 3
   },
   "file_extension": ".py",
   "mimetype": "text/x-python",
   "name": "python",
   "nbconvert_exporter": "python",
   "pygments_lexer": "ipython3",
   "version": "3.9.19"
  }
 },
 "nbformat": 4,
 "nbformat_minor": 2
}
