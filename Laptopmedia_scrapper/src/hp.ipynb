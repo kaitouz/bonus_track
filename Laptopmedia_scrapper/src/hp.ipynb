{
 "cells": [
  {
   "cell_type": "code",
   "execution_count": 1,
   "metadata": {},
   "outputs": [],
   "source": [
    "from selenium import webdriver\n",
    "from selenium.webdriver.common.by import By\n",
    "from tqdm.notebook import tqdm\n",
    "\n",
    "import time\n",
    "import config\n",
    "import os\n",
    "import pandas as pd\n",
    "from bs4 import BeautifulSoup"
   ]
  },
  {
   "cell_type": "code",
   "execution_count": 2,
   "metadata": {},
   "outputs": [],
   "source": [
    "class Product(object):\n",
    "    def __init__(self, WebElement):\n",
    "        self.ID = WebElement.find('a')['href'].split('/')[-2]\n",
    "        self.Name = WebElement.find('a').find('h2').get_text()\n",
    "    \n",
    "        self.CPU, self.RAM, self.GPU, self.Display, self.Storage = None, None, None, None, None\n",
    "\n",
    "        cpu = WebElement.find(class_=\"cpu\")\n",
    "        ram = WebElement.find(class_=\"ram\")\n",
    "        gpu = WebElement.find(class_=\"gpu\")\n",
    "        display = WebElement.find(class_=\"display\")\n",
    "        storage = WebElement.find(class_=\"storage\")\n",
    "\n",
    "        if cpu is not None:\n",
    "            self.CPU = cpu.get_text()\n",
    "        if ram is not None:\n",
    "            self.RAM = ram.get_text()\n",
    "        if gpu is not None:\n",
    "            self.GPU = gpu.get_text()\n",
    "        if display is not None:\n",
    "            self.Display = display.get_text()\n",
    "        if storage is not None:\n",
    "            self.Storage = storage.get_text()\n",
    "\n",
    "        self.Link = WebElement.find('a')['href']\n",
    "        self.Image = WebElement.find('img')['src']\n",
    "        self.Price = WebElement.find('span', class_='text-lm-darkBlue').get_text()\n",
    "        self.Price = int(self.Price[1:])\n",
    "\n",
    "    def print(self):\n",
    "        attrs = vars(self)\n",
    "        print('\\n'.join(\"%s: %s\" % item for item in attrs.items() if item[0] != 'WebElement'))\n",
    "\n",
    "    def extract_to_dataframe(self):\n",
    "        return pd.DataFrame([vars(self)])"
   ]
  },
  {
   "cell_type": "code",
   "execution_count": 3,
   "metadata": {},
   "outputs": [],
   "source": [
    "run = 'OTHER'\n",
    "os.makedirs(f'../Data/{run}', exist_ok=True)\n",
    "url = config.OTHER"
   ]
  },
  {
   "cell_type": "code",
   "execution_count": 4,
   "metadata": {},
   "outputs": [
    {
     "name": "stdout",
     "output_type": "stream",
     "text": [
      "1\n"
     ]
    },
    {
     "data": {
      "application/vnd.jupyter.widget-view+json": {
       "model_id": "2156785591d546ca94cc41c40360d3a7",
       "version_major": 2,
       "version_minor": 0
      },
      "text/plain": [
       "  0%|          | 0/1000 [00:00<?, ?it/s]"
      ]
     },
     "metadata": {},
     "output_type": "display_data"
    },
    {
     "name": "stdout",
     "output_type": "stream",
     "text": [
      "2\n"
     ]
    },
    {
     "data": {
      "application/vnd.jupyter.widget-view+json": {
       "model_id": "671b1521397e48e2a379f475b9281a76",
       "version_major": 2,
       "version_minor": 0
      },
      "text/plain": [
       "  0%|          | 0/1000 [00:00<?, ?it/s]"
      ]
     },
     "metadata": {},
     "output_type": "display_data"
    },
    {
     "name": "stdout",
     "output_type": "stream",
     "text": [
      "3\n"
     ]
    },
    {
     "data": {
      "application/vnd.jupyter.widget-view+json": {
       "model_id": "49d9aba358a24314855a5bbd109f4f4d",
       "version_major": 2,
       "version_minor": 0
      },
      "text/plain": [
       "  0%|          | 0/1000 [00:00<?, ?it/s]"
      ]
     },
     "metadata": {},
     "output_type": "display_data"
    },
    {
     "name": "stdout",
     "output_type": "stream",
     "text": [
      "4\n"
     ]
    },
    {
     "data": {
      "application/vnd.jupyter.widget-view+json": {
       "model_id": "88dca44468794c16826704cf7e838d99",
       "version_major": 2,
       "version_minor": 0
      },
      "text/plain": [
       "  0%|          | 0/545 [00:00<?, ?it/s]"
      ]
     },
     "metadata": {},
     "output_type": "display_data"
    }
   ],
   "source": [
    "no_page = 1\n",
    "while(True):\n",
    "    driver = webdriver.Chrome()\n",
    "    driver.get(url.format(no_page=no_page))\n",
    "    time.sleep(10)\n",
    "    page_source = driver.page_source\n",
    "    driver.close()\n",
    "\n",
    "    soup = BeautifulSoup(page_source, 'html.parser')\n",
    "\n",
    "    list_all = soup.find_all(class_=\"flex items-center gap-2 list-none border-b py-1 mb-2\")\n",
    "    if len(list_all) == 0:\n",
    "        break\n",
    "\n",
    "    df = None\n",
    "\n",
    "    print(no_page)\n",
    "\n",
    "    for ele in tqdm(list_all):\n",
    "        item = Product(ele)\n",
    "\n",
    "        if df is not None:\n",
    "            df = pd.concat([df, item.extract_to_dataframe()], ignore_index=True)\n",
    "        else:\n",
    "            df = item.extract_to_dataframe()\n",
    "\n",
    "    df.to_csv(f'../Data/{run}/{no_page}.csv', index=False)\n",
    "    no_page = no_page + 1"
   ]
  }
 ],
 "metadata": {
  "kernelspec": {
   "display_name": "bonus_track",
   "language": "python",
   "name": "python3"
  },
  "language_info": {
   "codemirror_mode": {
    "name": "ipython",
    "version": 3
   },
   "file_extension": ".py",
   "mimetype": "text/x-python",
   "name": "python",
   "nbconvert_exporter": "python",
   "pygments_lexer": "ipython3",
   "version": "3.9.19"
  }
 },
 "nbformat": 4,
 "nbformat_minor": 2
}
