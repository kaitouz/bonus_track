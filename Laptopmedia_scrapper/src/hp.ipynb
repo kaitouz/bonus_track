{
 "cells": [
  {
   "cell_type": "code",
   "execution_count": 1,
   "metadata": {},
   "outputs": [],
   "source": [
    "from selenium import webdriver\n",
    "from selenium.webdriver.common.by import By\n",
    "from tqdm.notebook import tqdm\n",
    "\n",
    "import time\n",
    "import config\n",
    "import os\n",
    "import pandas as pd\n",
    "from bs4 import BeautifulSoup"
   ]
  },
  {
   "cell_type": "code",
   "execution_count": 2,
   "metadata": {},
   "outputs": [],
   "source": [
    "class Product(object):\n",
    "    def __init__(self, WebElement):\n",
    "        self.ID = WebElement.find('a')['href'].split('/')[-2]\n",
    "        self.Name = WebElement.find('a').find('h2').get_text()\n",
    "    \n",
    "        self.CPU, self.RAM, self.GPU, self.Display, self.Storage = None, None, None, None, None\n",
    "\n",
    "        cpu = WebElement.find(class_=\"cpu\")\n",
    "        ram = WebElement.find(class_=\"ram\")\n",
    "        gpu = WebElement.find(class_=\"gpu\")\n",
    "        display = WebElement.find(class_=\"display\")\n",
    "        storage = WebElement.find(class_=\"storage\")\n",
    "\n",
    "        if cpu is not None:\n",
    "            self.CPU = cpu.get_text()\n",
    "        if ram is not None:\n",
    "            self.RAM = ram.get_text()\n",
    "        if gpu is not None:\n",
    "            self.GPU = gpu.get_text()\n",
    "        if display is not None:\n",
    "            self.Display = display.get_text()\n",
    "        if storage is not None:\n",
    "            self.Storage = storage.get_text()\n",
    "\n",
    "        self.Link = WebElement.find('a')['href']\n",
    "        self.Image = WebElement.find('img')['src']\n",
    "        self.Price = WebElement.find('span', class_='text-lm-darkBlue').get_text()\n",
    "        self.Price = int(self.Price[1:])\n",
    "\n",
    "    def print(self):\n",
    "        attrs = vars(self)\n",
    "        print('\\n'.join(\"%s: %s\" % item for item in attrs.items() if item[0] != 'WebElement'))\n",
    "\n",
    "    def extract_to_dataframe(self):\n",
    "        return pd.DataFrame([vars(self)])"
   ]
  },
  {
   "cell_type": "code",
   "execution_count": 3,
   "metadata": {},
   "outputs": [
    {
     "ename": "TypeError",
     "evalue": "'exist_ok' is an invalid keyword argument for mkdir()",
     "output_type": "error",
     "traceback": [
      "\u001b[0;31m---------------------------------------------------------------------------\u001b[0m",
      "\u001b[0;31mTypeError\u001b[0m                                 Traceback (most recent call last)",
      "Cell \u001b[0;32mIn[3], line 2\u001b[0m\n\u001b[1;32m      1\u001b[0m run \u001b[38;5;241m=\u001b[39m \u001b[38;5;124m'\u001b[39m\u001b[38;5;124mDELL\u001b[39m\u001b[38;5;124m'\u001b[39m\n\u001b[0;32m----> 2\u001b[0m \u001b[43mos\u001b[49m\u001b[38;5;241;43m.\u001b[39;49m\u001b[43mmkdir\u001b[49m\u001b[43m(\u001b[49m\u001b[38;5;124;43mf\u001b[39;49m\u001b[38;5;124;43m'\u001b[39;49m\u001b[38;5;124;43m../Data/\u001b[39;49m\u001b[38;5;132;43;01m{\u001b[39;49;00m\u001b[43mrun\u001b[49m\u001b[38;5;132;43;01m}\u001b[39;49;00m\u001b[38;5;124;43m'\u001b[39;49m\u001b[43m,\u001b[49m\u001b[43m \u001b[49m\u001b[43mexist_ok\u001b[49m\u001b[38;5;241;43m=\u001b[39;49m\u001b[38;5;28;43;01mTrue\u001b[39;49;00m\u001b[43m)\u001b[49m\n\u001b[1;32m      3\u001b[0m url \u001b[38;5;241m=\u001b[39m config\u001b[38;5;241m.\u001b[39mDELL\n",
      "\u001b[0;31mTypeError\u001b[0m: 'exist_ok' is an invalid keyword argument for mkdir()"
     ]
    }
   ],
   "source": [
    "run = 'DELL'\n",
    "os.makedirs(f'../Data/{run}', exist_ok=True)\n",
    "url = config.DELL"
   ]
  },
  {
   "cell_type": "code",
   "execution_count": null,
   "metadata": {},
   "outputs": [
    {
     "ename": "KeyboardInterrupt",
     "evalue": "",
     "output_type": "error",
     "traceback": [
      "\u001b[0;31m---------------------------------------------------------------------------\u001b[0m",
      "\u001b[0;31mKeyboardInterrupt\u001b[0m                         Traceback (most recent call last)",
      "Cell \u001b[0;32mIn[11], line 5\u001b[0m\n\u001b[1;32m      3\u001b[0m driver \u001b[38;5;241m=\u001b[39m webdriver\u001b[38;5;241m.\u001b[39mChrome()\n\u001b[1;32m      4\u001b[0m driver\u001b[38;5;241m.\u001b[39mget(url\u001b[38;5;241m.\u001b[39mformat(no_page\u001b[38;5;241m=\u001b[39mno_page))\n\u001b[0;32m----> 5\u001b[0m \u001b[43mtime\u001b[49m\u001b[38;5;241;43m.\u001b[39;49m\u001b[43msleep\u001b[49m\u001b[43m(\u001b[49m\u001b[38;5;241;43m10\u001b[39;49m\u001b[43m)\u001b[49m\n\u001b[1;32m      6\u001b[0m page_source \u001b[38;5;241m=\u001b[39m driver\u001b[38;5;241m.\u001b[39mpage_source\n\u001b[1;32m      7\u001b[0m driver\u001b[38;5;241m.\u001b[39mclose()\n",
      "\u001b[0;31mKeyboardInterrupt\u001b[0m: "
     ]
    }
   ],
   "source": [
    "no_page = 1\n",
    "while(True):\n",
    "    driver = webdriver.Chrome()\n",
    "    driver.get(url.format(no_page=no_page))\n",
    "    time.sleep(10)\n",
    "    page_source = driver.page_source\n",
    "    driver.close()\n",
    "\n",
    "    soup = BeautifulSoup(page_source, 'html.parser')\n",
    "\n",
    "    list_all = soup.find_all(class_=\"flex items-center gap-2 list-none border-b py-1 mb-2\")\n",
    "    if len(list_all) == 0:\n",
    "        break\n",
    "\n",
    "    df = None\n",
    "\n",
    "    print(no_page)\n",
    "\n",
    "    for ele in tqdm(list_all):\n",
    "        item = Product(ele)\n",
    "\n",
    "        if df is not None:\n",
    "            df = pd.concat([df, item.extract_to_dataframe()], ignore_index=True)\n",
    "        else:\n",
    "            df = item.extract_to_dataframe()\n",
    "\n",
    "    df.to_csv(f'../Data/{run}/{no_page}.csv', index=False)\n",
    "    no_page = no_page + 1"
   ]
  }
 ],
 "metadata": {
  "kernelspec": {
   "display_name": "bonus_track",
   "language": "python",
   "name": "python3"
  },
  "language_info": {
   "codemirror_mode": {
    "name": "ipython",
    "version": 3
   },
   "file_extension": ".py",
   "mimetype": "text/x-python",
   "name": "python",
   "nbconvert_exporter": "python",
   "pygments_lexer": "ipython3",
   "version": "3.9.19"
  }
 },
 "nbformat": 4,
 "nbformat_minor": 2
}
