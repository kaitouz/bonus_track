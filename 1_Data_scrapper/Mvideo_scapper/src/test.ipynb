{
 "cells": [
  {
   "cell_type": "code",
   "execution_count": 1,
   "metadata": {},
   "outputs": [],
   "source": [
    "import requests\n",
    "import json\n",
    "import config\n",
    "from bs4 import BeautifulSoup\n",
    "\n",
    "import pandas as pd"
   ]
  },
  {
   "cell_type": "code",
   "execution_count": null,
   "metadata": {},
   "outputs": [],
   "source": [
    "class Product(object):\n",
    "    def __init__(self, ID):\n",
    "        self.ID = ID\n",
    "    \n",
    "    def "
   ]
  },
  {
   "cell_type": "code",
   "execution_count": 57,
   "metadata": {},
   "outputs": [
    {
     "name": "stdout",
     "output_type": "stream",
     "text": [
      "0 200\n",
      "1 200\n",
      "2 200\n",
      "3 200\n",
      "4 200\n",
      "5 200\n",
      "6 200\n",
      "7 200\n",
      "8 200\n",
      "9 200\n",
      "10 200\n",
      "11 200\n",
      "12 200\n",
      "13 200\n",
      "14 200\n",
      "15 200\n",
      "16 200\n",
      "17 200\n",
      "18 200\n",
      "19 200\n",
      "20 200\n",
      "21 200\n",
      "22 200\n",
      "23 200\n",
      "24 200\n",
      "25 200\n",
      "26 200\n",
      "27 200\n",
      "28 200\n",
      "29 200\n",
      "30 200\n"
     ]
    }
   ],
   "source": [
    "class API(object):\n",
    "    def __init__(self):\n",
    "        self.ProductsList = []\n",
    "        self.LastProductsList = None\n",
    "\n",
    "        self.ProductDetails = None\n",
    "\n",
    "    def send_request(self, page):\n",
    "\n",
    "        cookies = config.COOKIES\n",
    "        headers = config.HEADERS\n",
    "\n",
    "        params = {\n",
    "            'categoryId': '118',\n",
    "            'offset': page * 24,\n",
    "            'limit': '24',\n",
    "            'filterParams': 'WyJ0b2xrby12LW5hbGljaGlpIiwiLTEyIiwiZGEiXQ==',\n",
    "            'doTranslit': 'true',\n",
    "        }\n",
    "\n",
    "        response = requests.get('https://www.mvideo.ru/bff/products/listing', params=params, cookies=cookies, headers=headers)\n",
    "\n",
    "        print(page, response.status_code)\n",
    "\n",
    "        json_data = response.json()\n",
    "        # with open('test.json', 'w') as file:\n",
    "        #     json.dump(json_data, file, indent=4)\n",
    "        products_list = json_data.get(\"body\").get(\"products\")\n",
    "        self.LastProductsList = products_list\n",
    "\n",
    "        if products_list != None and len(products_list) != 0:\n",
    "            return True\n",
    "        else:\n",
    "            return False\n",
    "\n",
    "    def get_products_from_page(self):\n",
    "        no_page = 0\n",
    "        while True:\n",
    "            res = self.send_request(no_page)\n",
    "            if res:\n",
    "                no_page = no_page + 1\n",
    "                # temp_df = pd.DataFrame(list(zip(self.LastProductsList, [None])), columns=['ID', 'link'])\n",
    "                \n",
    "                # self.ProductsLinkList = pd.concat([self.ProductsLinkList, temp_df], ignore_index=True)\n",
    "                # self.ProductsLinkList.to_csv('first.csv', index=False) \n",
    "                self.ProductsList = self.ProductsList + self.LastProductsList\n",
    "                pd.Series(self.ProductsList).to_csv(\"ProductIDList.csv\")\n",
    "            else:\n",
    "                break\n",
    "        \n",
    "        \n",
    "        \n",
    "\n",
    "bot = API()\n",
    "bot.get_products_from_page()"
   ]
  },
  {
   "cell_type": "code",
   "execution_count": 58,
   "metadata": {},
   "outputs": [
    {
     "data": {
      "text/plain": [
       "697"
      ]
     },
     "execution_count": 58,
     "metadata": {},
     "output_type": "execute_result"
    }
   ],
   "source": [
    "len(bot.ProductsList)"
   ]
  },
  {
   "cell_type": "code",
   "execution_count": 56,
   "metadata": {},
   "outputs": [
    {
     "data": {
      "text/plain": [
       "[]"
      ]
     },
     "execution_count": 56,
     "metadata": {},
     "output_type": "execute_result"
    }
   ],
   "source": [
    "cookies = config.COOKIES\n",
    "headers = config.HEADERS\n",
    "\n",
    "params = {\n",
    "    'categoryId': '118',\n",
    "    'offset': 100 * 24,\n",
    "    'limit': '24',\n",
    "    'filterParams': 'WyJ0b2xrby12LW5hbGljaGlpIiwiLTEyIiwiZGEiXQ==',\n",
    "    'doTranslit': 'true',\n",
    "}\n",
    "\n",
    "response = requests.get('https://www.mvideo.ru/bff/products/listing', params=params, cookies=cookies, headers=headers)\n",
    "\n",
    "json_data = response.json()\n",
    "# with open('test.json', 'w') as file:\n",
    "#     json.dump(json_data, file, indent=4)\n",
    "products_list = json_data.get(\"body\").get(\"products\")\n",
    "products_list"
   ]
  },
  {
   "cell_type": "code",
   "execution_count": 49,
   "metadata": {},
   "outputs": [],
   "source": [
    "import requests\n",
    "\n",
    "cookies = {\n",
    "    '__lhash_': '4dc6476ee2e0a4d9593857f03f50b9fa',\n",
    "    'MVID_AB_PERSONAL_RECOMMENDS': 'true',\n",
    "    'MVID_AB_UPSALE': 'true',\n",
    "    'MVID_ACCESSORIES_PDP_BY_RANK': 'true',\n",
    "    'MVID_ALFA_PODELI_NEW': 'true',\n",
    "    'MVID_CASCADE_CMN': 'true',\n",
    "    'MVID_CATALOG_NEW': 'true',\n",
    "    'MVID_CHAT_VERSION': '6.6.0',\n",
    "    'MVID_CITY_ID': 'CityCZ_1638',\n",
    "    'MVID_CREDIT_DIGITAL': 'true',\n",
    "    'MVID_CREDIT_SERVICES': 'true',\n",
    "    'MVID_CRITICAL_GTM_INIT_DELAY': '3000',\n",
    "    'MVID_DISPLAY_ACCRUED_BR': 'true',\n",
    "    'MVID_DISPLAY_PERS_DISCOUNT': 'true',\n",
    "    'MVID_EMPLOYEE_DISCOUNT': 'true',\n",
    "    'MVID_FAVORIT_NEW': 'true',\n",
    "    'MVID_FILTER_CODES': 'true',\n",
    "    'MVID_FILTER_TOOLTIP': '1',\n",
    "    'MVID_FLOCKTORY_ON': 'true',\n",
    "    'MVID_GROUP_BY_QUALITY': 'true',\n",
    "    'MVID_GTM_ENABLED': '011',\n",
    "    'MVID_INTERVAL_DELIVERY': 'true',\n",
    "    'MVID_IS_NEW_BR_WIDGET': 'true',\n",
    "    'MVID_KLADR_ID': '7800000000000',\n",
    "    'MVID_LAYOUT_TYPE': '1',\n",
    "    'MVID_NEW_CHAT_PDP': 'true',\n",
    "    'MVID_NEW_LK_CHECK_CAPTCHA': 'true',\n",
    "    'MVID_NEW_LK_OTP_TIMER': 'true',\n",
    "    'MVID_NEW_MBONUS_BLOCK': 'true',\n",
    "    'MVID_PODELI_PDP': 'true',\n",
    "    'MVID_PROMO_PAGES_ON_2': 'true',\n",
    "    'MVID_REGION_ID': '6',\n",
    "    'MVID_REGION_SHOP': 'S904',\n",
    "    'MVID_SERVICES': '111',\n",
    "    'MVID_SERVICE_AVLB': 'true',\n",
    "    'MVID_SINGLE_CHECKOUT': 'true',\n",
    "    'MVID_SP': 'true',\n",
    "    'MVID_TIMEZONE_OFFSET': '3',\n",
    "    'MVID_TYP_CHAT': 'true',\n",
    "    'MVID_WEB_SBP': 'true',\n",
    "    'SENTRY_ERRORS_RATE': '0.1',\n",
    "    'SENTRY_TRANSACTIONS_RATE': '0.5',\n",
    "    'MVID_ENVCLOUD': 'prod1',\n",
    "    'mindboxDeviceUUID': 'b27a4403-197f-4765-8d14-1225b8e1d785',\n",
    "    'directCrm-session': '%7B%22deviceGuid%22%3A%22b27a4403-197f-4765-8d14-1225b8e1d785%22%7D',\n",
    "    '_ym_uid': '1711216851574396947',\n",
    "    '_ym_d': '1711216851',\n",
    "    '_ga': 'GA1.1.886265068.1711216851',\n",
    "    '__SourceTracker': 'google__organic',\n",
    "    'admitad_deduplication_cookie': 'google__organic',\n",
    "    'SMSError': '',\n",
    "    'authError': '',\n",
    "    'tmr_lvid': '0a46ada09be5e013b7cfc5ba1a4906e4',\n",
    "    'tmr_lvidTS': '1711216853585',\n",
    "    'flocktory-uuid': '648fa205-2afb-4f5a-a2a4-525b18a3a87b-2',\n",
    "    'customer_email': 'null',\n",
    "    'uxs_uid': '4a886bd0-e93f-11ee-a969-9ddf87e6032f',\n",
    "    'gdeslon.ru.__arc_domain': 'gdeslon.ru',\n",
    "    'gdeslon.ru.user_id': '6db5bbbb-f920-4e61-9062-8f54ab7e5b26',\n",
    "    'advcake_track_id': 'a3e16222-ecfb-fc79-bcfc-11482f346c5a',\n",
    "    'advcake_session_id': '2f4c120b-7555-801d-16d7-d12daf2c3958',\n",
    "    'flacktory': 'no',\n",
    "    'BIGipServeratg-ps-prod_tcp80': '2919554058.20480.0000',\n",
    "    'bIPs': '1595647062',\n",
    "    'afUserId': 'e5ccd3bc-0438-4291-870f-942d489e7ad7-p',\n",
    "    'AF_SYNC': '1711216853935',\n",
    "    '_gpVisits': '{\"isFirstVisitDomain\":true,\"idContainer\":\"100025D5\"}',\n",
    "    'adid': '171121685398127',\n",
    "    'MVID_GUEST_ID': '23678809232',\n",
    "    'MVID_VIEWED_PRODUCTS': '',\n",
    "    'wurfl_device_id': 'generic_web_browser',\n",
    "    'MVID_CALC_BONUS_RUBLES_PROFIT': 'true',\n",
    "    'NEED_REQUIRE_APPLY_DISCOUNT': 'true',\n",
    "    'MVID_CART_MULTI_DELETE': 'true',\n",
    "    'MVID_YANDEX_WIDGET': 'true',\n",
    "    'PROMOLISTING_WITHOUT_STOCK_AB_TEST': '2',\n",
    "    'MVID_GET_LOCATION_BY_DADATA': 'DaData',\n",
    "    'PRESELECT_COURIER_DELIVERY_FOR_KBT': 'false',\n",
    "    'HINTS_FIO_COOKIE_NAME': '1',\n",
    "    'searchType2': '3',\n",
    "    'COMPARISON_INDICATOR': 'false',\n",
    "    'MVID_NEW_OLD': 'eyJjYXJ0IjpmYWxzZSwiZmF2b3JpdGUiOnRydWUsImNvbXBhcmlzb24iOnRydWV9',\n",
    "    'MVID_OLD_NEW': 'eyJjb21wYXJpc29uIjogdHJ1ZSwgImZhdm9yaXRlIjogdHJ1ZSwgImNhcnQiOiB0cnVlfQ==',\n",
    "    'BIGipServeratg-ps-prod_tcp80_clone': '2919554058.20480.0000',\n",
    "    'MVID_GTM_BROWSER_THEME': '1',\n",
    "    'deviceType': 'desktop',\n",
    "    'MVID_GEOLOCATION_NEEDED': 'false',\n",
    "    'Function': '1',\n",
    "    '_ym_isad': '2',\n",
    "    'JSESSIONID': 'w2t6mQWGRCLPX8JyyW4zN1NRFQ66WvL0wNdkzgWsvzh26n2lSHhG!-179932669',\n",
    "    'CACHE_INDICATOR': 'false',\n",
    "    '_sp_id.d61c': 'd0509dda-8b8e-4ab3-bb39-cce3f089565b.1711216851.2.1711298175.1711219792.75b496ff-72aa-4ac6-9ca3-82dbe8adb9dd.2c402bcd-ec07-4124-b76b-0eea5e62d55f.8ad0e31e-496a-481b-b86c-b8f4f6d33a86.1711298037576.24',\n",
    "    'advcake_track_url': '%3D202403244gDoRs7hvg6aqmd45zdEsQxdoY69Z4gXNV55XFdv69RbRLZQjn1IL6JB8xf%2BIrcVmcFhTms2NSSF9JlGbsCG%2FupHgKI5WilEt5qP6eCnmbAxroEAuAy2un8Npm9sM2ggu1y8gpKiSXi8i%2Bru6HIRVvF9ewgGSMmdj5OaY2Zrm%2FP3P8qcm6QJIwEyGv5%2FaBZiJOME0VcGMTgcfcz6HGAlybqGuPunPXvEHFgnP81xm1wwhZ2kRnX69IIWmgoe%2FMAlrG5SzaMLxE%2BKr40MNsO%2FPMxBECshH7nxnWh1HVSnURYlulsNOtZ3S4w8UPhv1DtM7M432ahD1Gw9XpDZN5XKgMVC76CCco0vNtVg1R74gyACkM27prpzJWx8SUuTAtJqmgyBLjHW1B1Ra%2Bw5Gr4mdHvf6MP1lkNog%2FAfuOPf824bzoBZ4ArGHUOH2GQ%2BZaU3QWmbcTmvLiPnj7I8rnXqyuqhSA65FSoz3GJdnSQJQN1DoOjpezej6P7KM5mNqT8IlwBEOCHfb5EMmUIxyMUXU78Srf3fYVJIW7XkGStRAHrAXz8Xy%2FoYjm%2FonVB6H4mZFqjWY9tgDToC8rOtgBf%2FB3%2F3ELeqC7MxZ1iDZej31N3EHIXbcABI6HaMKXKzk2pRGa9Z9ftwpG6hUaFUjoyU9tUXRPrWYSM%2FqVnwD0yGsowO6sb9SnrxFeU%3D',\n",
    "    '_gp100025D5': '{\"hits\":4,\"vc\":1,\"ac\":1,\"a6\":1}',\n",
    "    'tmr_detect': '0%7C1711298181648',\n",
    "    'gsscgib-w-mvideo': 'WnTs7YqFmZxkMKpC+/oonXPuilFWFQD+Wu7rP4YKz5gBMgmvHBkOUacFoJnwwa9jXvDl0hykUDrTDbhI8gx5JyytOOOV+rucYvNx+aKeFUKw+o1ljQCyeca2X/wkWcKXkK6uIWqAbPdLe9Zyt0VN+yz4Ghy9xbmR7z+J/7J6+eaZePl9g1vU7zplKZTyohQygFgjMt7qTVhzySIS5cOwViZ2Hi3cKN5fJEAXzH2zM7GAXObcMUAD0pkJA6mOzw==',\n",
    "    'gsscgib-w-mvideo': 'WnTs7YqFmZxkMKpC+/oonXPuilFWFQD+Wu7rP4YKz5gBMgmvHBkOUacFoJnwwa9jXvDl0hykUDrTDbhI8gx5JyytOOOV+rucYvNx+aKeFUKw+o1ljQCyeca2X/wkWcKXkK6uIWqAbPdLe9Zyt0VN+yz4Ghy9xbmR7z+J/7J6+eaZePl9g1vU7zplKZTyohQygFgjMt7qTVhzySIS5cOwViZ2Hi3cKN5fJEAXzH2zM7GAXObcMUAD0pkJA6mOzw==',\n",
    "    'fgsscgib-w-mvideo': 'd6Qj66928785682ba0b08eb683516029500fa92b',\n",
    "    'fgsscgib-w-mvideo': 'd6Qj66928785682ba0b08eb683516029500fa92b',\n",
    "    '__hash_': '7679ed975feb666397763dfef9a08c3b',\n",
    "    'gsscgib-w-mvideo': 'gsU8pbiG+cp/tOCNAS01Ao7dcVNgStXSun2VC9LESBShHgUan7U4T2jAh3BUB54NC8WyPazf/TnRs/xPdjOJ/rRFOpsyVky3j5ULxNZ6JeCX6+fpV30bCNPdaE1xTMU/NkzsYDqv/oFHsGEb3pmoWBT4FcTlh8AvjmVOoZi4XABoWNtfdWbm3KMz8w/s7sL2q/rrdcOpIa5dmw1VSD83ITWtTh8j9hHbWabDdFYIhgLmLMYJPgw+SRduFzIHUA==',\n",
    "    'cfidsgib-w-mvideo': 'ljxjlGX7vvO35ZQJxGRW87Qb21JHpVA6wX06ufx9JT8dPCR8lE5/0d3ZzhG6HrAg7oKE+Z7wBdK3/mxGIyBf/OuzYN+Pq/EZHc3odb1VnMXv6Q5VfzNW4plHZATOySczVzf+d1HyPHeFCxxzjw+T5lyC9iGriqhghw/nnP4=',\n",
    "    '_ga_CFMZTSS5FM': 'GS1.1.1711300570.3.0.1711300570.0.0.0',\n",
    "    '_ga_BNX5WPP3YK': 'GS1.1.1711300570.3.0.1711300570.60.0.0',\n",
    "}\n",
    "\n",
    "headers = {\n",
    "    'accept': 'application/json',\n",
    "    'accept-language': 'en-US,en;q=0.9',\n",
    "    'baggage': 'sentry-environment=production,sentry-release=release_24_3_3(6394),sentry-public_key=ae7d267743424249bfeeaa2e347f4260,sentry-trace_id=8819aed358744e4b9b5a5a8454941351,sentry-sample_rate=0.5,sentry-transaction=%2F**%2F,sentry-sampled=true',\n",
    "    'content-type': 'application/json',\n",
    "    # 'cookie': '__lhash_=4dc6476ee2e0a4d9593857f03f50b9fa; MVID_AB_PERSONAL_RECOMMENDS=true; MVID_AB_UPSALE=true; MVID_ACCESSORIES_PDP_BY_RANK=true; MVID_ALFA_PODELI_NEW=true; MVID_CASCADE_CMN=true; MVID_CATALOG_NEW=true; MVID_CHAT_VERSION=6.6.0; MVID_CITY_ID=CityCZ_1638; MVID_CREDIT_DIGITAL=true; MVID_CREDIT_SERVICES=true; MVID_CRITICAL_GTM_INIT_DELAY=3000; MVID_DISPLAY_ACCRUED_BR=true; MVID_DISPLAY_PERS_DISCOUNT=true; MVID_EMPLOYEE_DISCOUNT=true; MVID_FAVORIT_NEW=true; MVID_FILTER_CODES=true; MVID_FILTER_TOOLTIP=1; MVID_FLOCKTORY_ON=true; MVID_GROUP_BY_QUALITY=true; MVID_GTM_ENABLED=011; MVID_INTERVAL_DELIVERY=true; MVID_IS_NEW_BR_WIDGET=true; MVID_KLADR_ID=7800000000000; MVID_LAYOUT_TYPE=1; MVID_NEW_CHAT_PDP=true; MVID_NEW_LK_CHECK_CAPTCHA=true; MVID_NEW_LK_OTP_TIMER=true; MVID_NEW_MBONUS_BLOCK=true; MVID_PODELI_PDP=true; MVID_PROMO_PAGES_ON_2=true; MVID_REGION_ID=6; MVID_REGION_SHOP=S904; MVID_SERVICES=111; MVID_SERVICE_AVLB=true; MVID_SINGLE_CHECKOUT=true; MVID_SP=true; MVID_TIMEZONE_OFFSET=3; MVID_TYP_CHAT=true; MVID_WEB_SBP=true; SENTRY_ERRORS_RATE=0.1; SENTRY_TRANSACTIONS_RATE=0.5; MVID_ENVCLOUD=prod1; mindboxDeviceUUID=b27a4403-197f-4765-8d14-1225b8e1d785; directCrm-session=%7B%22deviceGuid%22%3A%22b27a4403-197f-4765-8d14-1225b8e1d785%22%7D; _ym_uid=1711216851574396947; _ym_d=1711216851; _ga=GA1.1.886265068.1711216851; __SourceTracker=google__organic; admitad_deduplication_cookie=google__organic; SMSError=; authError=; tmr_lvid=0a46ada09be5e013b7cfc5ba1a4906e4; tmr_lvidTS=1711216853585; flocktory-uuid=648fa205-2afb-4f5a-a2a4-525b18a3a87b-2; customer_email=null; uxs_uid=4a886bd0-e93f-11ee-a969-9ddf87e6032f; gdeslon.ru.__arc_domain=gdeslon.ru; gdeslon.ru.user_id=6db5bbbb-f920-4e61-9062-8f54ab7e5b26; advcake_track_id=a3e16222-ecfb-fc79-bcfc-11482f346c5a; advcake_session_id=2f4c120b-7555-801d-16d7-d12daf2c3958; flacktory=no; BIGipServeratg-ps-prod_tcp80=2919554058.20480.0000; bIPs=1595647062; afUserId=e5ccd3bc-0438-4291-870f-942d489e7ad7-p; AF_SYNC=1711216853935; _gpVisits={\"isFirstVisitDomain\":true,\"idContainer\":\"100025D5\"}; adid=171121685398127; MVID_GUEST_ID=23678809232; MVID_VIEWED_PRODUCTS=; wurfl_device_id=generic_web_browser; MVID_CALC_BONUS_RUBLES_PROFIT=true; NEED_REQUIRE_APPLY_DISCOUNT=true; MVID_CART_MULTI_DELETE=true; MVID_YANDEX_WIDGET=true; PROMOLISTING_WITHOUT_STOCK_AB_TEST=2; MVID_GET_LOCATION_BY_DADATA=DaData; PRESELECT_COURIER_DELIVERY_FOR_KBT=false; HINTS_FIO_COOKIE_NAME=1; searchType2=3; COMPARISON_INDICATOR=false; MVID_NEW_OLD=eyJjYXJ0IjpmYWxzZSwiZmF2b3JpdGUiOnRydWUsImNvbXBhcmlzb24iOnRydWV9; MVID_OLD_NEW=eyJjb21wYXJpc29uIjogdHJ1ZSwgImZhdm9yaXRlIjogdHJ1ZSwgImNhcnQiOiB0cnVlfQ==; BIGipServeratg-ps-prod_tcp80_clone=2919554058.20480.0000; MVID_GTM_BROWSER_THEME=1; deviceType=desktop; MVID_GEOLOCATION_NEEDED=false; Function=1; _ym_isad=2; JSESSIONID=w2t6mQWGRCLPX8JyyW4zN1NRFQ66WvL0wNdkzgWsvzh26n2lSHhG!-179932669; CACHE_INDICATOR=false; _sp_id.d61c=d0509dda-8b8e-4ab3-bb39-cce3f089565b.1711216851.2.1711298175.1711219792.75b496ff-72aa-4ac6-9ca3-82dbe8adb9dd.2c402bcd-ec07-4124-b76b-0eea5e62d55f.8ad0e31e-496a-481b-b86c-b8f4f6d33a86.1711298037576.24; advcake_track_url=%3D202403244gDoRs7hvg6aqmd45zdEsQxdoY69Z4gXNV55XFdv69RbRLZQjn1IL6JB8xf%2BIrcVmcFhTms2NSSF9JlGbsCG%2FupHgKI5WilEt5qP6eCnmbAxroEAuAy2un8Npm9sM2ggu1y8gpKiSXi8i%2Bru6HIRVvF9ewgGSMmdj5OaY2Zrm%2FP3P8qcm6QJIwEyGv5%2FaBZiJOME0VcGMTgcfcz6HGAlybqGuPunPXvEHFgnP81xm1wwhZ2kRnX69IIWmgoe%2FMAlrG5SzaMLxE%2BKr40MNsO%2FPMxBECshH7nxnWh1HVSnURYlulsNOtZ3S4w8UPhv1DtM7M432ahD1Gw9XpDZN5XKgMVC76CCco0vNtVg1R74gyACkM27prpzJWx8SUuTAtJqmgyBLjHW1B1Ra%2Bw5Gr4mdHvf6MP1lkNog%2FAfuOPf824bzoBZ4ArGHUOH2GQ%2BZaU3QWmbcTmvLiPnj7I8rnXqyuqhSA65FSoz3GJdnSQJQN1DoOjpezej6P7KM5mNqT8IlwBEOCHfb5EMmUIxyMUXU78Srf3fYVJIW7XkGStRAHrAXz8Xy%2FoYjm%2FonVB6H4mZFqjWY9tgDToC8rOtgBf%2FB3%2F3ELeqC7MxZ1iDZej31N3EHIXbcABI6HaMKXKzk2pRGa9Z9ftwpG6hUaFUjoyU9tUXRPrWYSM%2FqVnwD0yGsowO6sb9SnrxFeU%3D; _gp100025D5={\"hits\":4,\"vc\":1,\"ac\":1,\"a6\":1}; tmr_detect=0%7C1711298181648; gsscgib-w-mvideo=WnTs7YqFmZxkMKpC+/oonXPuilFWFQD+Wu7rP4YKz5gBMgmvHBkOUacFoJnwwa9jXvDl0hykUDrTDbhI8gx5JyytOOOV+rucYvNx+aKeFUKw+o1ljQCyeca2X/wkWcKXkK6uIWqAbPdLe9Zyt0VN+yz4Ghy9xbmR7z+J/7J6+eaZePl9g1vU7zplKZTyohQygFgjMt7qTVhzySIS5cOwViZ2Hi3cKN5fJEAXzH2zM7GAXObcMUAD0pkJA6mOzw==; gsscgib-w-mvideo=WnTs7YqFmZxkMKpC+/oonXPuilFWFQD+Wu7rP4YKz5gBMgmvHBkOUacFoJnwwa9jXvDl0hykUDrTDbhI8gx5JyytOOOV+rucYvNx+aKeFUKw+o1ljQCyeca2X/wkWcKXkK6uIWqAbPdLe9Zyt0VN+yz4Ghy9xbmR7z+J/7J6+eaZePl9g1vU7zplKZTyohQygFgjMt7qTVhzySIS5cOwViZ2Hi3cKN5fJEAXzH2zM7GAXObcMUAD0pkJA6mOzw==; fgsscgib-w-mvideo=d6Qj66928785682ba0b08eb683516029500fa92b; fgsscgib-w-mvideo=d6Qj66928785682ba0b08eb683516029500fa92b; __hash_=7679ed975feb666397763dfef9a08c3b; gsscgib-w-mvideo=gsU8pbiG+cp/tOCNAS01Ao7dcVNgStXSun2VC9LESBShHgUan7U4T2jAh3BUB54NC8WyPazf/TnRs/xPdjOJ/rRFOpsyVky3j5ULxNZ6JeCX6+fpV30bCNPdaE1xTMU/NkzsYDqv/oFHsGEb3pmoWBT4FcTlh8AvjmVOoZi4XABoWNtfdWbm3KMz8w/s7sL2q/rrdcOpIa5dmw1VSD83ITWtTh8j9hHbWabDdFYIhgLmLMYJPgw+SRduFzIHUA==; cfidsgib-w-mvideo=ljxjlGX7vvO35ZQJxGRW87Qb21JHpVA6wX06ufx9JT8dPCR8lE5/0d3ZzhG6HrAg7oKE+Z7wBdK3/mxGIyBf/OuzYN+Pq/EZHc3odb1VnMXv6Q5VfzNW4plHZATOySczVzf+d1HyPHeFCxxzjw+T5lyC9iGriqhghw/nnP4=; _ga_CFMZTSS5FM=GS1.1.1711300570.3.0.1711300570.0.0.0; _ga_BNX5WPP3YK=GS1.1.1711300570.3.0.1711300570.60.0.0',\n",
    "    'origin': 'https://www.mvideo.ru',\n",
    "    'referer': 'https://www.mvideo.ru/noutbuki-planshety-komputery-8/noutbuki-118?page=2',\n",
    "    'sec-ch-ua': '\"Google Chrome\";v=\"123\", \"Not:A-Brand\";v=\"8\", \"Chromium\";v=\"123\"',\n",
    "    'sec-ch-ua-mobile': '?0',\n",
    "    'sec-ch-ua-platform': '\"Linux\"',\n",
    "    'sec-fetch-dest': 'empty',\n",
    "    'sec-fetch-mode': 'cors',\n",
    "    'sec-fetch-site': 'same-origin',\n",
    "    'sentry-trace': '8819aed358744e4b9b5a5a8454941351-b28cfcef4131a9cd-1',\n",
    "    'user-agent': 'Mozilla/5.0 (X11; Linux x86_64) AppleWebKit/537.36 (KHTML, like Gecko) Chrome/123.0.0.0 Safari/537.36',\n",
    "    'x-set-application-id': '4e728fbe-b41c-4508-b367-7982881cfec2',\n",
    "}\n",
    "\n",
    "json_data = {\n",
    "    'productIds': bot.ProductsList[:24],\n",
    "    'mediaTypes': [\n",
    "        'images',\n",
    "    ],\n",
    "    'category': True,\n",
    "    'status': True,\n",
    "    'brand': True,\n",
    "    'propertyTypes': [\n",
    "        'KEY',\n",
    "    ],\n",
    "    'propertiesConfig': {\n",
    "        'propertiesPortionSize': 5,\n",
    "    },\n",
    "    'multioffer': False,\n",
    "}\n",
    "\n",
    "response = requests.post('https://www.mvideo.ru/bff/product-details/list', cookies=config.COOKIES, headers=headers, json=json_data)\n",
    "\n",
    "# Note: json_data will not be serialized by requests\n",
    "# exactly as it was in the original request.\n",
    "#data = '{\"productIds\":[\"30067902\",\"400132676\",\"30067836\",\"30067659\",\"30067716\",\"400171260\",\"400135846\",\"30067728\",\"400233585\",\"30067654\",\"30067704\",\"30067623\",\"400243953\",\"400235229\",\"30067508\",\"30068427\",\"30067705\",\"400136875\",\"30066686\",\"400235230\",\"400082334\",\"400112740\",\"30069945\",\"30067312\"],\"mediaTypes\":[\"images\"],\"category\":true,\"status\":true,\"brand\":true,\"propertyTypes\":[\"KEY\"],\"propertiesConfig\":{\"propertiesPortionSize\":5},\"multioffer\":false}'\n",
    "#response = requests.post('https://www.mvideo.ru/bff/product-details/list', cookies=cookies, headers=headers, data=data)"
   ]
  },
  {
   "cell_type": "code",
   "execution_count": 50,
   "metadata": {},
   "outputs": [
    {
     "data": {
      "text/plain": [
       "<Response [403]>"
      ]
     },
     "execution_count": 50,
     "metadata": {},
     "output_type": "execute_result"
    }
   ],
   "source": [
    "response"
   ]
  },
  {
   "cell_type": "code",
   "execution_count": 40,
   "metadata": {},
   "outputs": [
    {
     "data": {
      "text/plain": [
       "48"
      ]
     },
     "execution_count": 40,
     "metadata": {},
     "output_type": "execute_result"
    }
   ],
   "source": [
    "len(response.json().get('body').get('products'))"
   ]
  }
 ],
 "metadata": {
  "kernelspec": {
   "display_name": "bonus_track",
   "language": "python",
   "name": "python3"
  },
  "language_info": {
   "codemirror_mode": {
    "name": "ipython",
    "version": 3
   },
   "file_extension": ".py",
   "mimetype": "text/x-python",
   "name": "python",
   "nbconvert_exporter": "python",
   "pygments_lexer": "ipython3",
   "version": "3.9.19"
  }
 },
 "nbformat": 4,
 "nbformat_minor": 2
}
